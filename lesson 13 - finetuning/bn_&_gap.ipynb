{
 "cells": [
  {
   "cell_type": "markdown",
   "metadata": {},
   "source": [
    "# Batch Normalization\n",
    "\n",
    "We have seen that normalizing the input can lead to faster learning in the individual units. We can do this for any hidden layers, this process is called **Batch normalization**. Using BN can lead to a much more robust NN, a broader range of possible hyperparameters and easier training of deep NN. \n",
    "\n",
    "The batch normalization layer performs the following steps:\n",
    "\n",
    "- Compute the **mean** of layer $l$:\n",
    "$$ \\mu = \\frac{1}{m}\\sum_i z^{[l](i)} $$ \n",
    "\n",
    "- Compute the **variance** of layer $l$:\n",
    "$$ \\sigma^2  = \\frac{1}{m}\\sum_i (z^{[l](i)} - \\mu)^2 $$\n",
    "\n",
    "- Compute the **layer norm**:\n",
    "$$ z^{[l](i)}_{norm} = \\frac{z^{[l](i)} - \\mu}{\\sqrt{\\sigma^2 + \\epsilon}} $$\n",
    "\n",
    "- Compute the **batch norm**:\n",
    "$$ \\hat{z} = \\gamma \\cdot z^{[l](i)}_{norm} + \\beta  $$\n",
    "\n",
    "The parameters $γ$ and $β$ are learnable and can be different for each layer. At the beginning of training, when the network is not yet well-trained, the mean and variance values may fluctuate significantly from batch to batch. However, as training progresses and the network parameters are adjusted to minimize the loss function, the mean and variance tend to stabilize. This is only done during training.\n",
    "\n",
    "<img src=\"images/Batch_normalization.png\" width=\"700px\">"
   ]
  },
  {
   "cell_type": "markdown",
   "metadata": {},
   "source": [
    "# Global Average Pooling\n",
    "\n",
    "Global Average Pooling computes the average of each feature map across its entire spatial dimensions. Similar to average pooling, global average pooling also does not have any learnable parameters. It is often used as a replacement for fully connected layers at the end of a CNN. It aggregates spatial information across the entire feature map, providing a fixed-length vector representation of the feature maps.\n",
    "\n",
    "<img src=\"images/global_average_pooling.png\" width=\"700px\">"
   ]
  },
  {
   "cell_type": "markdown",
   "metadata": {},
   "source": []
  }
 ],
 "metadata": {
  "language_info": {
   "name": "python"
  }
 },
 "nbformat": 4,
 "nbformat_minor": 2
}
