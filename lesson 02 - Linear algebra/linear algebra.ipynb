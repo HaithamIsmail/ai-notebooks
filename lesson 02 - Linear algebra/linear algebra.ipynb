{
 "cells": [
  {
   "cell_type": "markdown",
   "metadata": {},
   "source": [
    "# Linear Algebra Using Numpy"
   ]
  },
  {
   "cell_type": "markdown",
   "metadata": {},
   "source": [
    "## Table of contents\n",
    "- [Import Package](#1)\n",
    "- [Numpy](#2)\n",
    "    - [1-D Array](#2-1)\n",
    "    - [2-D, 3-D Arrays](#2-2)\n",
    "    - [Other ways to initialize a numpy array](#2-3)\n",
    "- [Linear Algebra in Numpy](#3)\n",
    "  - [Element-wise operations](#3-1)\n",
    "  - [Broadcasting](#3-2)\n",
    "  - [Matrix Multiplication](#3-3)\n",
    "  - [Transpose](#3-4)\n",
    "  - [Dot Product](#3-5)\n",
    "- [L1 and L2 Norms](#4)\n",
    "  - [L1 Norm  (Manhattan Norm)](#4-1)\n",
    "  - [L2 Norm (Euclidean Norm)](#4-2)\n",
    "- [Comparison between Standard Python and Numpy](#5)"
   ]
  },
  {
   "cell_type": "markdown",
   "metadata": {},
   "source": [
    "<a name='1'></a>\n",
    "## Import Packages"
   ]
  },
  {
   "cell_type": "code",
   "execution_count": 2,
   "metadata": {},
   "outputs": [],
   "source": [
    "# Import Numpy\n",
    "import numpy as np"
   ]
  },
  {
   "cell_type": "markdown",
   "metadata": {},
   "source": [
    "<a name='2'></a>\n",
    "## Numpy"
   ]
  },
  {
   "cell_type": "markdown",
   "metadata": {},
   "source": [
    "NumPy is the fundamental package for scientific computing in Python. It is a Python library that provides a multidimensional array object, various derived objects (such as masked arrays and matrices), and an assortment of routines for fast operations on arrays, including mathematical, logical, shape manipulation, sorting, selecting, I/O, discrete Fourier transforms, basic linear algebra, basic statistical operations, random simulation and much more."
   ]
  },
  {
   "cell_type": "markdown",
   "metadata": {},
   "source": [
    "### Numpy Arrays (Matricies and Vectors)"
   ]
  },
  {
   "cell_type": "markdown",
   "metadata": {},
   "source": [
    "<a name='2-1'></a>\n",
    "**1-D Array**"
   ]
  },
  {
   "cell_type": "code",
   "execution_count": 3,
   "metadata": {},
   "outputs": [
    {
     "name": "stdout",
     "output_type": "stream",
     "text": [
      "one_d_vec [ 5.  -1.   1.   0.2  4.1  3.5 12.  -6.3]\n",
      "int_vec [ 5 -1  1  0  4  3 12 -6]\n",
      "str_vector ['5' '-1' '1' '0.2' '4.1' '3.5' '12.0' '-6.3']\n"
     ]
    }
   ],
   "source": [
    "one_d_vec = np.array([5, -1, 1, 0.2, 4.1, 3.5, 12.0, -6.3])\n",
    "print('one_d_vec', one_d_vec)\n",
    "int_vec= np.array([5, -1, 1, 0.2, 4.1, 3.5, 12.0, -6.3], dtype=int)\n",
    "print('int_vec', int_vec)\n",
    "str_vector = np.array([5, -1, 1, 0.2, 4.1, 3.5, 12.0, -6.3], dtype=str)\n",
    "print('str_vector', str_vector)"
   ]
  },
  {
   "cell_type": "markdown",
   "metadata": {},
   "source": [
    "<a name='2-2'></a>\n",
    "**2-D Arrays**"
   ]
  },
  {
   "cell_type": "code",
   "execution_count": null,
   "metadata": {},
   "outputs": [],
   "source": [
    "two_d_array = np.array([[5, -1, 1, 0],[4, 3, 12, -6]])\n",
    "print(f'This is a 2D array of shape {two_d_array.shape}\\n', two_d_array)"
   ]
  },
  {
   "cell_type": "markdown",
   "metadata": {},
   "source": [
    "<table style=\"background-color: white; color: black;\">\n",
    "<tr>\n",
    "  <th>A scalar, shape: <code>[]</code></th>\n",
    "  <th>A vector, shape: <code>[3]</code></th>\n",
    "  <th>A matrix, shape: <code>[3, 2]</code></th>\n",
    "</tr>\n",
    "<tr>\n",
    "  <td>\n",
    "   <img src=\"images/scalar.png\" alt=\"A scalar, the number 4\" />\n",
    "  </td>\n",
    "\n",
    "  <td>\n",
    "   <img src=\"images/vector.png\" alt=\"The line with 3 sections, each one containing a number.\"/>\n",
    "  </td>\n",
    "  <td>\n",
    "   <img src=\"images/matrix.png\" alt=\"A 3x2 grid, with each cell containing a number.\">\n",
    "  </td>\n",
    "</tr>\n",
    "</table>\n",
    "\n",
    "The tensor above has a shape `(3,2)` which means our matrix has 3 rows and 2 columns. "
   ]
  },
  {
   "cell_type": "markdown",
   "metadata": {},
   "source": [
    "**3-D Arrays**"
   ]
  },
  {
   "cell_type": "code",
   "execution_count": null,
   "metadata": {},
   "outputs": [],
   "source": [
    "three_d_array = np.array([[[1, 2, 3], [4, 5, 6]],\n",
    "                          [[7, 8, 9], [10, 11, 12]],\n",
    "                          [[13, 14, 15], [16, 17, 18]]])\n",
    "print(f\"\\nThis is a 3D array of shape {three_d_array.shape}\\n\", three_d_array)"
   ]
  },
  {
   "cell_type": "markdown",
   "metadata": {},
   "source": [
    "<table style=\"background-color: white; color: black;\">\n",
    "<tr>\n",
    "  <th colspan=3>A 3-axis tensor, shape: <code>[3, 2, 5]</code></th>\n",
    "<tr>\n",
    "<tr>\n",
    "  <td>\n",
    "   <img src=\"images/3-axis_numpy.png\"/>\n",
    "  </td>\n",
    "  <td>\n",
    "   <img src=\"images/3-axis_front.png\"/>\n",
    "  </td>\n",
    "\n",
    "  <td>\n",
    "   <img src=\"images/3-axis_block.png\"/>\n",
    "  </td>\n",
    "</tr>\n",
    "\n",
    "</table>"
   ]
  },
  {
   "cell_type": "markdown",
   "metadata": {},
   "source": [
    "<a name='2-3'></a>\n",
    "**Other ways to initialize a numpy array**\n",
    "1. **Zeros or Ones**: Create arrays filled with zeros or ones\n",
    "2. **Empty**: Create an uninitialized array\n",
    "3. **Arange**: Create an array with regularly spaced values\n",
    "4. **Linspace**: Create an array with a specified number of evenly spaced values\n",
    "5. **Random**: Create an array with random values\n",
    "6. **Eye**: Create an identity matrix\n",
    "7. **Diag**: Create a diagonal matrix\n",
    "8. **From Function**: Create an array based on a function (very rarely used)"
   ]
  },
  {
   "cell_type": "code",
   "execution_count": 5,
   "metadata": {},
   "outputs": [
    {
     "name": "stdout",
     "output_type": "stream",
     "text": [
      "[[0. 0. 0. 0.]\n",
      " [0. 0. 0. 0.]\n",
      " [0. 0. 0. 0.]]\n"
     ]
    }
   ],
   "source": [
    "# Zeros\n",
    "zeros_arr = np.zeros((3, 4))  # 3x4 array of zeros\n",
    "print(zeros_arr)"
   ]
  },
  {
   "cell_type": "code",
   "execution_count": 6,
   "metadata": {},
   "outputs": [
    {
     "name": "stdout",
     "output_type": "stream",
     "text": [
      "[[1. 1.]\n",
      " [1. 1.]]\n"
     ]
    }
   ],
   "source": [
    "# Ones\n",
    "ones_arr = np.ones((2, 2))    # 2x2 array of ones\n",
    "print(ones_arr)"
   ]
  },
  {
   "cell_type": "code",
   "execution_count": 7,
   "metadata": {},
   "outputs": [
    {
     "name": "stdout",
     "output_type": "stream",
     "text": [
      "[[1.1997618e-311 1.1997618e-311 1.1997618e-311]\n",
      " [1.1997618e-311 1.1997618e-311 1.1997618e-311]]\n"
     ]
    }
   ],
   "source": [
    "# Empty\n",
    "empty_arr = np.empty((2, 3))\n",
    "print(empty_arr)"
   ]
  },
  {
   "cell_type": "code",
   "execution_count": 8,
   "metadata": {},
   "outputs": [
    {
     "name": "stdout",
     "output_type": "stream",
     "text": [
      "[0 2 4 6 8]\n"
     ]
    }
   ],
   "source": [
    "# Arange\n",
    "range_arr = np.arange(0, 10, 2)  # Values from 0 to 10 with step 2\n",
    "print(range_arr)"
   ]
  },
  {
   "cell_type": "code",
   "execution_count": 9,
   "metadata": {},
   "outputs": [
    {
     "name": "stdout",
     "output_type": "stream",
     "text": [
      "[0.   0.25 0.5  0.75 1.  ]\n"
     ]
    }
   ],
   "source": [
    "# Linspace\n",
    "linspace_arr = np.linspace(0, 1, 5)  # 5 values between 0 and 1\n",
    "print(linspace_arr)"
   ]
  },
  {
   "cell_type": "code",
   "execution_count": 10,
   "metadata": {},
   "outputs": [
    {
     "name": "stdout",
     "output_type": "stream",
     "text": [
      "[[0.90835412 0.83416544]\n",
      " [0.84722186 0.22247775]\n",
      " [0.18988865 0.80515397]]\n"
     ]
    }
   ],
   "source": [
    "# Random\n",
    "random_arr = np.random.rand(3, 2)  # 3x2 array with random values in [0, 1)\n",
    "print(random_arr)"
   ]
  },
  {
   "cell_type": "code",
   "execution_count": 11,
   "metadata": {},
   "outputs": [
    {
     "name": "stdout",
     "output_type": "stream",
     "text": [
      "[[1. 0. 0.]\n",
      " [0. 1. 0.]\n",
      " [0. 0. 1.]]\n"
     ]
    }
   ],
   "source": [
    "# Eye\n",
    "identity_mat = np.eye(3)  # 3x3 identity matrix\n",
    "print(identity_mat)"
   ]
  },
  {
   "cell_type": "code",
   "execution_count": 12,
   "metadata": {},
   "outputs": [
    {
     "name": "stdout",
     "output_type": "stream",
     "text": [
      "[[1 0 0]\n",
      " [0 2 0]\n",
      " [0 0 3]]\n"
     ]
    }
   ],
   "source": [
    "# Diag\n",
    "diagonal_mat = np.diag([1, 2, 3])  # Diagonal matrix with specified values\n",
    "print(diagonal_mat)"
   ]
  },
  {
   "cell_type": "code",
   "execution_count": 13,
   "metadata": {},
   "outputs": [
    {
     "name": "stdout",
     "output_type": "stream",
     "text": [
      "[[0. 1. 2.]\n",
      " [1. 2. 3.]\n",
      " [2. 3. 4.]]\n"
     ]
    }
   ],
   "source": [
    "# From Function\n",
    "func_arr = np.fromfunction(lambda i, j: i + j, (3, 3))  # 3x3 array using a function\n",
    "print(func_arr)"
   ]
  },
  {
   "cell_type": "markdown",
   "metadata": {},
   "source": [
    "<a name='3'></a>\n",
    "## Linear Algebra in Numpy"
   ]
  },
  {
   "cell_type": "markdown",
   "metadata": {},
   "source": [
    "### Operations on Matrices"
   ]
  },
  {
   "cell_type": "markdown",
   "metadata": {},
   "source": [
    "<a name='3-1'></a>\n",
    "#### Element-wise operations"
   ]
  },
  {
   "cell_type": "markdown",
   "metadata": {},
   "source": [
    "Suppose A, B, and C are 2-D matrices\n",
    "\n",
    "Element-wise addition and multiplication in NumPy refer to performing addition and multiplication operations on corresponding elements of two arrays.\n",
    "\n",
    "**Addition**:\n",
    "\n",
    "When two matrices have the same shape, they can be added by summing up each of their corresponding entries together.\n",
    "\n",
    "$$(A + C)_{ij} = a_{ij} + c_{ij}$$\n",
    "\n",
    "<img src=\"images/vector_addition.png\" width=\"600px\"/>\n",
    "\n",
    "<table style=\"background-color: white; color: black;\">\n",
    "<tr>\n",
    "  <th>Sum of vectors</th>\n",
    "  <th>Difference of vectors</th>\n",
    "</tr>\n",
    "<tr>\n",
    "  <td>\n",
    "   <img src=\"images/sum_of_vectors.png\" width=\"300px\"/>\n",
    "  </td>\n",
    "\n",
    "  <td>\n",
    "   <img src=\"images/difference_of_vectors.png\" width=\"300px\"/>\n",
    "  </td>\n",
    "</tr>\n",
    "</table>\n",
    "\n",
    "**Multiplication**:\n",
    "\n",
    "1. Multiplying matrix with a scalar:\n",
    "   \n",
    "Multiplying a matrix of any shape by a scalar involves multiplying each entry of the matrix by that scalar. We can express it using subscript notation:\n",
    "\n",
    "$$(cA)_{ij} = c \\cdot a_{ij}$$\n",
    "\n",
    "<img src=\"images/scalar_x_vector.png\" width=\"300px\"/>\n",
    "\n",
    "2. Multiplying two matrices element-wise:\n",
    "\n",
    "Element-wise multiplication of two matrices involves multiplying corresponding elements of the matrices together. If you have two matrices $A$ and $B$ of the same shape (both $m \\times n$), the element-wise multiplication is denoted as C=A⊙B, where C is the resulting matrix.\n",
    "\n",
    "$$C_{ij} = A_{ij} \\odot B_{ij}$$\n",
    "$$c_{ij} = a_{ij} \\times b_{ij}$$\n"
   ]
  },
  {
   "cell_type": "code",
   "execution_count": 14,
   "metadata": {},
   "outputs": [
    {
     "name": "stdout",
     "output_type": "stream",
     "text": [
      "The result of adding a scalar to an array\n",
      " [[11 12 13]\n",
      " [14 15 16]\n",
      " [17 18 19]]\n",
      "**************\n",
      "The result of multiplying a matrix with a scalar\n",
      " [[ 2  4  6]\n",
      " [ 8 10 12]\n",
      " [14 16 18]]\n",
      "**************\n",
      "The result of element-wise addition of 2 matrices\n",
      " [[ 2  4  6]\n",
      " [ 8 10 12]\n",
      " [14 16 18]]\n",
      "**************\n",
      "The result of elemetn-wise multiplication of 2 arrays\n",
      " [[ 1  4  9]\n",
      " [16 25 36]\n",
      " [49 64 81]]\n"
     ]
    }
   ],
   "source": [
    "matrix = np.array([[1, 2, 3], [4, 5, 6], [7, 8, 9]])\n",
    "\n",
    "# Element-wise addition with scalar\n",
    "result_addition = matrix + 10\n",
    "print(\"The result of adding a scalar to an array\\n\", result_addition)\n",
    "\n",
    "print('**************')\n",
    "\n",
    "# Element-wise multiplication with scalar\n",
    "result_multiplication = matrix * 2\n",
    "print(\"The result of multiplying a matrix with a scalar\\n\", result_multiplication)\n",
    "\n",
    "\n",
    "print('**************')\n",
    "\n",
    "# Element-wise addition with matrix\n",
    "result_addition = matrix + matrix\n",
    "print(\"The result of element-wise addition of 2 matrices\\n\", result_addition)\n",
    "\n",
    "print('**************')\n",
    "\n",
    "# Element-wise multiplication\n",
    "result_multiplication = matrix * matrix\n",
    "print(\"The result of elemetn-wise multiplication of 2 arrays\\n\", result_multiplication)"
   ]
  },
  {
   "cell_type": "markdown",
   "metadata": {},
   "source": [
    "<a name='3-2'></a>\n",
    "**Broadcasting**:\n",
    "\n",
    "NumPy automatically performs these operations element-wise when the arrays have compatible shapes for broadcasting. Broadcasting allows NumPy to perform element-wise operations on arrays of different shapes and sizes.\n",
    "\n",
    "A      (2d array):  5 x 4 \\\n",
    "B      (1d array):      1 \\\n",
    "Result (2d array):  5 x 4\n",
    "\n",
    "A      (2d array):  5 x 4 \\\n",
    "B      (1d array):      4 \\\n",
    "Result (2d array):  5 x 4\n",
    "\n",
    "A      (3d array):  15 x 3 x 5 \\\n",
    "B      (3d array):  15 x 1 x 5 \\\n",
    "Result (3d array):  15 x 3 x 5\n",
    "\n",
    "A      (3d array):  15 x 3 x 5 \\\n",
    "B      (2d array):       3 x 5 \\\n",
    "Result (3d array):  15 x 3 x 5\n",
    "\n",
    "A      (3d array):  15 x 3 x 5 \\\n",
    "B      (2d array):       3 x 1 \\\n",
    "Result (3d array):  15 x 3 x 5"
   ]
  },
  {
   "cell_type": "code",
   "execution_count": 15,
   "metadata": {},
   "outputs": [
    {
     "name": "stdout",
     "output_type": "stream",
     "text": [
      "The result of elemetn-wise multiplication of 2 arrays\n",
      " [[ 1  4  9]\n",
      " [ 4 10 18]\n",
      " [ 7 16 27]]\n",
      "*********************\n",
      "The result of elemetn-wise multiplication of 2 arrays\n",
      " [[ 1  2  3]\n",
      " [ 8 10 12]\n",
      " [21 24 27]]\n",
      "*********************\n",
      "The result of elemetn-wise multiplication of 2 arrays\n",
      " [[1 2 3]\n",
      " [2 4 6]\n",
      " [3 6 9]]\n",
      "*********************\n"
     ]
    }
   ],
   "source": [
    "matrix_2 = np.array([1, 2, 3])\n",
    "result_multiplicaiton_broadcast = matrix * matrix_2\n",
    "print(\"The result of elemetn-wise multiplication of 2 arrays\\n\", result_multiplicaiton_broadcast)\n",
    "print('*********************')\n",
    "\n",
    "matrix_3 = np.array([[1], [2], [3]])\n",
    "result_multiplicaiton_broadcast2 = matrix * matrix_3\n",
    "print(\"The result of elemetn-wise multiplication of 2 arrays\\n\", result_multiplicaiton_broadcast2)\n",
    "print('*********************')\n",
    "\n",
    "result_multiplicaiton_broadcast3 = matrix_2 * matrix_3\n",
    "print(\"The result of elemetn-wise multiplication of 2 arrays\\n\", result_multiplicaiton_broadcast3)\n",
    "print('*********************')\n"
   ]
  },
  {
   "cell_type": "markdown",
   "metadata": {},
   "source": [
    "<a name='3-5'></a>\n",
    "#### Dot Product\n",
    "\n",
    "For vectors $ \\mathbf{U} $ and $ \\mathbf{V} $ in $\\mathbb{R}^n$, the dot product is written as $ \\mathbf{U} \\cdot \\mathbf{V} $, and is defined as follows:\n",
    "\n",
    "$$ \\mathbf{U} \\cdot \\mathbf{V} = U_1 \\cdot V_1 + U_2 \\cdot V_2 + \\ldots + U_n \\cdot V_n $$\n",
    "\n",
    "The result of dot product for 2 vectors is a scalar which can be observed from the equation.\n",
    "\n",
    "$$\n",
    "A = \\begin{bmatrix} 1 & 2 & 3 \\end{bmatrix}, \\quad\n",
    "B = \\begin{bmatrix} 4 & 5 & 6 \\end{bmatrix}\n",
    "$$\n",
    "\n",
    "$$ A \\cdot B = 1\\cdot4 + 2\\cdot5 + 3\\cdot6 = 32 $$\n",
    "\n",
    "Dot product is a shortcut for linear operations\n",
    "\n",
    "<img src=\"images/dot_product_shortcut.png\" height=\"300px\"/>"
   ]
  },
  {
   "cell_type": "code",
   "execution_count": null,
   "metadata": {},
   "outputs": [],
   "source": [
    "A = np.array([1, 2, 3])\n",
    "B = np.array([4, 5, 6])\n",
    "\n",
    "result = np.dot(A, B)\n",
    "\n",
    "print(\"Dot product result\",result)\n"
   ]
  },
  {
   "cell_type": "markdown",
   "metadata": {},
   "source": [
    "<a name='3-4'></a>\n",
    "#### Transpose\n",
    "\n",
    "Another important concept is the matrix transpose. When we transpose a matrix $A$, denoted as $A^{T}$, we essentially flip its rows and columns. To get the elements of $A^{T}$, we swap the row index with the column index for each entry. In simpler terms, if $A$ has an element $a_{ij}$, then in $A^{T}$ this element becomes $a_{ji}$. This operation transforms the columns of $A$ into the rows of $A_{T}$\n",
    " \n",
    "Suppose you have the matrix:\n",
    "$$ A = \\begin{bmatrix} 1 & 2 \\\\ 3 & 4 \\\\ 5 & 6 \\end{bmatrix} $$\n",
    "\n",
    "The transpose of $A$, denoted as $A^T$\n",
    "$$ A^T = \\begin{bmatrix} 1 & 3 & 5 \\\\ 2 & 4 & 6 \\end{bmatrix} $$\n"
   ]
  },
  {
   "cell_type": "code",
   "execution_count": null,
   "metadata": {},
   "outputs": [],
   "source": [
    "A = np.array([[1, 2, 3],\n",
    "              [4, 5, 6]])\n",
    "\n",
    "A_transpose = np.transpose(A)\n",
    "# Alternatively, you can use A.T\n",
    "\n",
    "print(\"Matrix A:\")\n",
    "print(A)\n",
    "\n",
    "print(\"\\nTranspose of A:\")\n",
    "print(A_transpose)"
   ]
  },
  {
   "cell_type": "markdown",
   "metadata": {},
   "source": [
    "<a name='3-3'></a>\n",
    "#### Matrix Multiplication"
   ]
  },
  {
   "cell_type": "markdown",
   "metadata": {},
   "source": [
    "To multiply a matrix $A$ of size $(n \\times m)$ with matrix $B$, $B$ should have $m$ rows; so that the size of matrix $B$ should be $(m\\times k)$. Where n, m, k being any natural number.\n",
    "\n",
    "The resulting matrix, denoted as $AB$, will have the same number of rows as $A$ and the same number of columns as $B$. In other words, if $A$ is of shape ($n \\times m$) and $B$ is of shape ($m \\times k$), then we can multiply them and the resulting matrix $AB$ will be of shape ($n \\times k$) $$ AB_{n \\times k} = A_{n \\times m} \\times B_{m \\times k} $$\n",
    "\n",
    "Note that in this case, multiplying $BA$ since the dimensions are not compatible; i.e, column $k$ of matrix $B$ is not equal to the number of rows $n$ of matrix $A$. BE CAREFUL TO THE ORDER!!!\n",
    "\n",
    "Example:\n",
    "\n",
    "$$ A = \\begin{bmatrix} a_1 & a_2 & a_3 \\\\ a_4 & a_5 & a_6 \\end{bmatrix} = \\begin{bmatrix} 1 & 2 & 3 \\\\ 4 & 5 & 6 \\end{bmatrix} $$\n",
    "$$ B = \\begin{bmatrix} b_1 & b_2 \\\\ b_3 & b_4 \\\\ b_5 & b_6 \\end{bmatrix} = \\begin{bmatrix} 7 & 8 \\\\ 9 & 10 \\\\ 11 & 12 \\end{bmatrix} $$\n",
    "$$ C = A \\times B  = \\begin{bmatrix} c_1 & c_2 \\\\ c_3 & c_4 \\end{bmatrix} = \\begin{bmatrix} 58 & 64 \\\\ 139 & 154 \\end{bmatrix} $$\n",
    "\n",
    "Where:\n",
    "$$ c_1 = a_1 \\times b_1 + a_2 \\times b_3 + a_3 \\times b_5 $$\n",
    "$$ c_2 = a_1 \\times b_2 + a_2 \\times b_4 + a_3 \\times b_6 $$\n",
    "$$ c_3 = a_4 \\times b_1 + a_5 \\times b_3 + a_6 \\times b_5 $$\n",
    "$$ c_4 = a_4 \\times b_2 + a_5 \\times b_4 + a_6 \\times b_6 $$\n",
    "\n",
    "\n"
   ]
  },
  {
   "cell_type": "code",
   "execution_count": 16,
   "metadata": {},
   "outputs": [
    {
     "name": "stdout",
     "output_type": "stream",
     "text": [
      "Result of matrix Multiplication\n",
      " [[ 58  64]\n",
      " [139 154]]\n"
     ]
    }
   ],
   "source": [
    "matrix_a = np.array([[1, 2, 3], [4, 5, 6]])\n",
    "matrix_b = np.array([[7, 8], [9, 10], [11, 12]])\n",
    "\n",
    "result_matrix_multiplication = matrix_a @ matrix_b\n",
    "print('Result of matrix Multiplication\\n', result_matrix_multiplication)"
   ]
  },
  {
   "cell_type": "markdown",
   "metadata": {},
   "source": [
    "In Numpy, using **dot product** for 2D matrices is the same as matrix multiplication. However, for multidimensional matrices, the results differ"
   ]
  },
  {
   "cell_type": "code",
   "execution_count": 19,
   "metadata": {},
   "outputs": [
    {
     "name": "stdout",
     "output_type": "stream",
     "text": [
      "Result of matrix Multiplication\n",
      " [[ 58  64]\n",
      " [139 154]]\n",
      "Result of dot product of 2D matrices\n",
      " [[ 58  64]\n",
      " [139 154]]\n",
      "\n",
      "*****************\n",
      "\n",
      "Size of the result of dot product of N-D matrices (3, 4, 3, 2)\n",
      "Size of the result of multiplication of N-D matrices (3, 4, 2)\n"
     ]
    }
   ],
   "source": [
    "matrix_a = np.array([[1, 2, 3], [4, 5, 6]])\n",
    "matrix_b = np.array([[7, 8], [9, 10], [11, 12]])\n",
    "\n",
    "result_matrix_multiplication = matrix_a @ matrix_b\n",
    "result_matrix_dot_2d = np.dot(matrix_a, matrix_b)\n",
    "print('Result of matrix Multiplication\\n', result_matrix_multiplication)\n",
    "print('Result of dot product of 2D matrices\\n', result_matrix_dot_2d)\n",
    "print('\\n*****************\\n')\n",
    "\n",
    "\n",
    "tensor_a = np.random.rand(3, 4, 5)\n",
    "tensor_b = np.random.rand(3, 5, 2)\n",
    "\n",
    "result_dot_tensor = np.dot(tensor_a, tensor_b)\n",
    "print(\"Size of the result of dot product of N-D matrices\",result_dot_tensor.shape)\n",
    "result_matmul_tensor = np.matmul(tensor_a, tensor_b)\n",
    "print(\"Size of the result of multiplication of N-D matrices\", result_matmul_tensor.shape)"
   ]
  },
  {
   "cell_type": "code",
   "execution_count": 20,
   "metadata": {},
   "outputs": [
    {
     "name": "stdout",
     "output_type": "stream",
     "text": [
      "1.1 µs ± 35.6 ns per loop (mean ± std. dev. of 7 runs, 1,000,000 loops each)\n"
     ]
    }
   ],
   "source": [
    "%%timeit\n",
    "np.dot(matrix_a, matrix_b)"
   ]
  },
  {
   "cell_type": "code",
   "execution_count": 21,
   "metadata": {},
   "outputs": [
    {
     "name": "stdout",
     "output_type": "stream",
     "text": [
      "1.4 µs ± 28.2 ns per loop (mean ± std. dev. of 7 runs, 1,000,000 loops each)\n"
     ]
    }
   ],
   "source": [
    "%%timeit\n",
    "np.matmul(matrix_a, matrix_b)"
   ]
  },
  {
   "cell_type": "markdown",
   "metadata": {},
   "source": [
    "<a name='4'></a>\n",
    "## L1 and L2 Norms"
   ]
  },
  {
   "cell_type": "markdown",
   "metadata": {},
   "source": [
    "<a name='4-1'></a>\n",
    "### L1 Norm  (Manhattan Norm):\n",
    "\n",
    "The L1 norm of a vector $x$, denoted as $∥x∥_1$, is the sum of the absolute values of its elements. Mathematically, it is defined as:\n",
    "\n",
    "$$ ||\\mathbf{x}\\|_1 = \\sum_{i=1}^{n} |x_i| $$\n",
    "\n",
    "Here:\n",
    "- $x$ is the vector.\n",
    "- $n$ is the number of elements in the vector.\n",
    "- $∣x_i∣$ denotes the absolute value of the $i-th$ element.\n",
    "  \n",
    "The L1 norm corresponds to the \"Manhattan distance\" between the origin (or any point) and the point defined by the vector. "
   ]
  },
  {
   "cell_type": "code",
   "execution_count": 22,
   "metadata": {},
   "outputs": [
    {
     "name": "stdout",
     "output_type": "stream",
     "text": [
      "L1 Norm: 15.0\n"
     ]
    }
   ],
   "source": [
    "x = np.array([1, -2, 3, -4, 5])\n",
    "\n",
    "# L1 Norm\n",
    "l1_norm = np.linalg.norm(x, ord=1)\n",
    "print(\"L1 Norm:\", l1_norm)"
   ]
  },
  {
   "cell_type": "markdown",
   "metadata": {},
   "source": [
    "<a name='4-2'></a>\n",
    "### L2 Norm (Euclidean Norm):\n",
    "\n",
    "he L2 norm of a vector $x$, denoted as $∥x∥_2$, is the square root of the sum of the squared values of its elements. Mathematically, it is defined as:\n",
    "\n",
    "$$\\|\\mathbf{x}\\|_2 = \\sqrt{\\sum_{i=1}^{n} x_i^2}$$\n",
    "\n",
    "Here:\n",
    "\n",
    "- $x$ is the vector.\n",
    "- $n$ is the number of elements in the vector.\n",
    "- $x_{i}^{2}$ denotes the square of the $i-th$ element.\n",
    "  \n",
    "The L2 norm corresponds to the \"Euclidean distance\" between the origin (or any point) and the point defined by the vector. It is the straight-line distance between two points in Euclidean space.\n"
   ]
  },
  {
   "cell_type": "code",
   "execution_count": 23,
   "metadata": {},
   "outputs": [
    {
     "name": "stdout",
     "output_type": "stream",
     "text": [
      "L2 Norm: 7.416198487095663\n"
     ]
    }
   ],
   "source": [
    "# L2 Norm\n",
    "l2_norm = np.linalg.norm(x, ord=2)\n",
    "print(\"L2 Norm:\", l2_norm)"
   ]
  },
  {
   "cell_type": "markdown",
   "metadata": {},
   "source": [
    "<a name='4-3'></a>\n",
    "### Applications in Machine Learning:\n",
    "\n",
    "**L1 Norm:**\n",
    "\n",
    "- Used in regularization techniques (L1 regularization or Lasso) to promote sparsity in models by encouraging some weights to become exactly zero.\n",
    "- Feature selection, where it helps in creating sparse solutions. (a sparse solution refers to a solution where many of the coefficients or parameters associated with features are exactly zero.)\n",
    "\n",
    "**L2 Norm:**\n",
    "\n",
    "- Commonly used in optimization problems, including linear regression and support vector machines.\n",
    "- Regularization techniques (L2 regularization or Ridge) to prevent overfitting and control the magnitude of weights."
   ]
  },
  {
   "cell_type": "markdown",
   "metadata": {},
   "source": [
    "<a name='5'></a>\n",
    "## Comparison between Standard Python and Numpy"
   ]
  },
  {
   "cell_type": "code",
   "execution_count": 24,
   "metadata": {},
   "outputs": [
    {
     "name": "stdout",
     "output_type": "stream",
     "text": [
      "\n",
      "Execution Time Comparison:\n",
      "NumPy Execution Time: 0.0017249584197998047\n",
      "Standard Python Execution Time: 0.12271308898925781\n",
      "Speed up: 71.13973738769869 times faster\n"
     ]
    }
   ],
   "source": [
    "import random\n",
    "\n",
    "rows, cols = 1000, 1000\n",
    "\n",
    "random_list = [[random.randint(1, 10) for _ in range(cols)] for _ in range(rows)]\n",
    "\n",
    "numpy_array_a = np.array(random_list)\n",
    "\n",
    "def multiply_python_matrices(a, b):\n",
    "    result = [[0 for _ in range(cols)] for _ in range(rows)]\n",
    "    for i in range(rows):\n",
    "        for j in range(cols):\n",
    "            result[i][j] = a[i][j] * b[i][j]\n",
    "    return result\n",
    "\n",
    "import time\n",
    "\n",
    "start_time_numpy = time.time()\n",
    "numpy_result = numpy_array_a * numpy_array_a\n",
    "end_time_numpy = time.time()\n",
    "numpy_execution_time = end_time_numpy - start_time_numpy\n",
    "\n",
    "start_time_python = time.time()\n",
    "python_result = multiply_python_matrices(random_list, random_list)\n",
    "end_time_python = time.time()\n",
    "python_execution_time = end_time_python - start_time_python\n",
    "\n",
    "speedup = python_execution_time / numpy_execution_time\n",
    "\n",
    "print(\"\\nExecution Time Comparison:\")\n",
    "print(\"NumPy Execution Time:\", numpy_execution_time)\n",
    "print(\"Standard Python Execution Time:\", python_execution_time)\n",
    "print(\"Speed up:\", speedup, \"times faster\")\n"
   ]
  },
  {
   "cell_type": "code",
   "execution_count": 25,
   "metadata": {},
   "outputs": [
    {
     "name": "stdout",
     "output_type": "stream",
     "text": [
      "118 ms ± 1.74 ms per loop (mean ± std. dev. of 7 runs, 100 loops each)\n"
     ]
    }
   ],
   "source": [
    "%%timeit -n100\n",
    "python_result = multiply_python_matrices(random_list, random_list)"
   ]
  },
  {
   "cell_type": "code",
   "execution_count": 26,
   "metadata": {},
   "outputs": [
    {
     "name": "stdout",
     "output_type": "stream",
     "text": [
      "1.6 ms ± 30.7 µs per loop (mean ± std. dev. of 7 runs, 100 loops each)\n"
     ]
    }
   ],
   "source": [
    "%%timeit -n100\n",
    "numpy_result = numpy_array_a * numpy_array_a"
   ]
  }
 ],
 "metadata": {
  "kernelspec": {
   "display_name": "bootcamp",
   "language": "python",
   "name": "python3"
  },
  "language_info": {
   "codemirror_mode": {
    "name": "ipython",
    "version": 3
   },
   "file_extension": ".py",
   "mimetype": "text/x-python",
   "name": "python",
   "nbconvert_exporter": "python",
   "pygments_lexer": "ipython3",
   "version": "3.9.18"
  }
 },
 "nbformat": 4,
 "nbformat_minor": 2
}
